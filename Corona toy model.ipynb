{
 "cells": [
  {
   "cell_type": "markdown",
   "metadata": {
    "collapsed": false
   },
   "source": [
    "# The Flatten The Curve and Herd Immunity Corona model\n",
    "This modified SIR toy model simulates a Corona outbreak.\n",
    "\n",
    "\n"
   ]
  },
  {
   "cell_type": "code",
   "execution_count": 27,
   "metadata": {
    "collapsed": false
   },
   "outputs": [
    {
     "name": "stdout",
     "output_type": "stream",
     "text": [
      "This runs a simple epidemics differential equation model using different parameters.\n",
      "This assumes that we can keep down infection rate by social distancing, and evaluates the results.\n",
      "\n",
      "population - total population in thousands\n",
      "initial_infected - the seed number of infected (e.g. if you want to try social distancing after some days)\n",
      "infection_rate - how many does an infected on average spead to\n",
      "mortality - fraction infected dead with care.\n",
      "mortality_no_care - fraction infected without care.\n",
      "care_beds - number of intensive care beds\n",
      "\n",
      "Default settings are for the US, and approximate values available from online sources.\n"
     ]
    },
    {
     "data": {
      "application/vnd.jupyter.widget-view+json": {
       "model_id": "4c0d96ba2e274488a81346e06f284ff7",
       "version_major": 2,
       "version_minor": 0
      },
      "text/plain": [
       "interactive(children=(IntSlider(value=320000, description='population', max=500000, step=500, style=SliderStyl…"
      ]
     },
     "execution_count": 27,
     "metadata": {
     },
     "output_type": "execute_result"
    }
   ],
   "source": [
    "#This is the SIRD model\n",
    "#A simple differential equation\n",
    "import numpy as np\n",
    "from scipy.integrate import odeint\n",
    "import matplotlib.pyplot as plt\n",
    "\n",
    "def SIRD(population, initial_infected, beta,gamma,death_rate,death_rate_without_healthcare,health_care_capacity):\n",
    "\n",
    "    # Population, initial infected, initial susceptible. \n",
    "    N = population\n",
    "    I0, R0 = initial_infected, 0\n",
    "    D0 = 0\n",
    "    S0 = N - I0 - R0\n",
    "    t = np.linspace(0, 1000, 1000)\n",
    "\n",
    "    # The SIRd model differential equations.\n",
    "    def deriv_death(y, t, N, beta, gamma,  death_rate, health_care_capacity, death_rate_without_healthcare):\n",
    "        S, I, R, D = y\n",
    "        dSdt = (-beta * S * I) / N\n",
    "        \n",
    "        #This is an addition to the SIR model:\n",
    "        # A certain population who is sick dies when treated.\n",
    "        # There are finite hospital beds. People who are not treated die at a higher rate.\n",
    "        dDdt = death_rate*I\n",
    "        if I > health_care_capacity:\n",
    "            untreated_infected = I - health_care_capacity\n",
    "            dDdt +=  death_rate_without_healthcare*untreated_infected\n",
    "        dIdt = beta * S * I / N - gamma * I - dDdt\n",
    "        dRdt = gamma * I\n",
    "\n",
    "        return dSdt, dIdt, dRdt, dDdt\n",
    "\n",
    "    y0 = S0, I0, R0, D0\n",
    "    ret = odeint(deriv_death, y0, t, args=(N, beta, gamma, death_rate,health_care_capacity,death_rate_without_healthcare))\n",
    "    S, I, R, D = ret.T\n",
    "\n",
    "    return t,S,I,R,D\n",
    "\n",
    "\n",
    "\n",
    "#This is code for plotting and looking at the results.\n",
    "\n",
    "from __future__ import print_function\n",
    "from ipywidgets import interact, interactive, fixed, interact_manual\n",
    "import ipywidgets as widgets\n",
    "from ipywidgets import FloatSlider\n",
    "from ipywidgets import IntSlider\n",
    "\n",
    "print(\"This runs a simple epidemics differential equation model using different parameters.\")\n",
    "print(\"This assumes that we can keep down infection rate by social distancing, and evaluates the results.\")\n",
    "print()\n",
    "print(\"population - total population in thousands\")\n",
    "print(\"initial_infected - the seed number of infected (e.g. if you want to try social distancing after some days)\")\n",
    "print(\"infection_rate - how many does an infected on average spead to\")\n",
    "print(\"mortality - fraction infected dead with care.\")\n",
    "print(\"mortality_no_care - fraction infected without care.\")\n",
    "print(\"care_beds - number of intensive care beds\")\n",
    "print()\n",
    "print(\"Default settings are for the US, and approximate values available from online sources.\")\n",
    "\n",
    "\n",
    "\n",
    "@interact(population=widgets.IntSlider(min=0, max=500000, step=500, value=320000,style=style),\n",
    "          initial_infected=widgets.IntSlider(min=0, max=500000, step=500, value=1),\n",
    "                infection_rate=FloatSlider(min=0.8, max=4, step=0.01,value=2.3),\n",
    "                mortality=FloatSlider(min=0.01, max=0.1, step=0.005,value=0.005),\n",
    "                mort_no_care=FloatSlider(min=0.01, max=0.2, step=0.005,value=0.05,style=style),\n",
    "                care_beds=IntSlider(min=0, max=1000, step=1,value=80))\n",
    "def plot_curve(population=320000,initial_infected=1,infection_rate=2.5, mortality=0.01, mort_no_care=0.05, care_beds=2000):\n",
    "    \n",
    "    days_sick = 10\n",
    "    gamma = 1./days_sick\n",
    "    death_rate = mortality / days_sick\n",
    "    death_rate_without_healthcare = mort_no_care / days_sick\n",
    "    \n",
    "    #Only people who would otherwise die need beds\n",
    "    health_care_capacity = (care_beds / death_rate_without_healthcare) / days_sick\n",
    "    beta = infection_rate/days_sick\n",
    "    \n",
    "    t,S,I,R,D = SIRD(population,initial_infected,beta,gamma,death_rate,death_rate_without_healthcare,health_care_capacity)\n",
    "    fig = plt.figure(facecolor='w')\n",
    "    ax = fig.add_subplot(111, axisbelow=True)\n",
    "\n",
    "    #ax.plot(t, S/1000, 'b', alpha=0.5, lw=2, label='Susceptible')\n",
    "    ax.plot(t, I, 'y', alpha=0.5, lw=2, label='Infected')\n",
    "    #ax.plot(t, R, 'b', alpha=0.5, lw=2, label='Recovered with immunity')\n",
    "    ax.plot(t, D, 'r', alpha=0.5, lw=2, label='Dead')\n",
    "    ax.axhline(health_care_capacity, color='g', linestyle='-', label=\"Health care capacity\")\n",
    "\n",
    "    ax.set_ylim(0,max(max(I),max(D)))\n",
    "\n",
    "    ax.yaxis.set_tick_params(length=0)\n",
    "    ax.xaxis.set_tick_params(length=0)\n",
    "\n",
    "    ax.grid(b=True, which='major', c='w', lw=2, ls='-')\n",
    "    legend = ax.legend()\n",
    "    legend.get_frame().set_alpha(0.5)\n",
    "    \n",
    "    plt.ylabel('Population (thousand)')\n",
    "    plt.xlabel('Days since first infection')\n",
    "\n",
    "    for spine in ('top', 'right', 'bottom', 'left'):\n",
    "        ax.spines[spine].set_visible(False)\n",
    "    plt.show()\n",
    "    \n",
    "    finaldead = D[len(D)-1]\n",
    "    finalrecovered = R[len(R)-1]\n",
    "    print(\"Total dead: \" + str(int(round(finaldead))) + \" thousand of \" + str(population)+ \" thousands. \" + str(int(100*finaldead/population)) + \"% of population.\" )\n",
    "    print(\"Infected but recovered: \" + str(int(round(finalrecovered))) + \" thousand. \" + str(int(100*finalrecovered/population)) + \"% of population.\" )\n",
    "    \n",
    "    \n",
    "    \n",
    "\n"
   ]
  },
  {
   "cell_type": "code",
   "execution_count": 0,
   "metadata": {
    "collapsed": false
   },
   "outputs": [
   ],
   "source": [
    "\n",
    "\n",
    "\n"
   ]
  },
  {
   "cell_type": "code",
   "execution_count": 0,
   "metadata": {
    "collapsed": false
   },
   "outputs": [
   ],
   "source": [
   ]
  },
  {
   "cell_type": "code",
   "execution_count": 0,
   "metadata": {
    "collapsed": false,
    "scrolled": true
   },
   "outputs": [
   ],
   "source": [
   ]
  },
  {
   "cell_type": "markdown",
   "metadata": {
    "collapsed": false
   },
   "source": [
    "# Animation of varying spread rate"
   ]
  },
  {
   "cell_type": "code",
   "execution_count": 9,
   "metadata": {
    "collapsed": false,
    "scrolled": true
   },
   "outputs": [
    {
     "name": "stderr",
     "output_type": "stream",
     "text": [
      "WARNING: Some output was deleted.\n"
     ]
    }
   ],
   "source": [
    "#This code animates the result, with varying infection rate.\n",
    "\n",
    "%matplotlib inline\n",
    "\n",
    "import numpy as np\n",
    "import matplotlib.pyplot as plt\n",
    "\n",
    "from matplotlib import animation, rc\n",
    "from IPython.display import HTML\n",
    "plt.rcParams['animation.writer'] = 'ffmpeg'\n",
    "\n",
    "betas=[]\n",
    "deads=[]\n",
    "\n",
    "fig, ax = plt.subplots()\n",
    "\n",
    "plt.xlabel('time')\n",
    "plt.ylabel('population')\n",
    "\n",
    "ax.set_xlim(( 0, 700))\n",
    "ax.set_ylim(0,4)\n",
    "\n",
    "ax.set_yticklabels([])\n",
    "ax.set_xticklabels([])\n",
    "\n",
    "line, = ax.plot([], [], lw=2)\n",
    "\n",
    "lines = []\n",
    "for index in range(3):\n",
    "    lobj = ax.plot([],[],lw=2,color=['black','red','green'][index],label=['Infected','Dead','Healthcare capacity'][index])[0]\n",
    "    lines.append(lobj)\n",
    "\n",
    "legend = ax.legend()\n",
    "legend.get_frame().set_alpha(0.5)\n",
    "\n",
    "def init():\n",
    "    for line in lines:\n",
    "        line.set_data([],[])\n",
    "    return lines\n",
    "\n",
    "\n",
    "def animate(i):\n",
    "    x1,y1 = [],[]\n",
    "    x2,y2 = [],[]\n",
    "    x3,y3 = [],[]\n",
    "\n",
    "    beta, gamma = 0.14, 1./10\n",
    "    death_rate = 0.01/10\n",
    "    death_rate_without_healthcare = 0.1/10\n",
    "    health_care_capacity = 2000\n",
    "    beta2 = beta-i/2500\n",
    "    t,S,I,R,D = SIRD(beta2,gamma,death_rate,death_rate_without_healthcare,health_care_capacity)\n",
    "    \n",
    "    #Save the beta value and the final death rate for separate plotting\n",
    "    betas.append(beta2)\n",
    "    deads.append(D[len(D)-1])\n",
    "\n",
    "    x = t\n",
    "    y = I/1000\n",
    "    x1.append(x)\n",
    "    y1.append(y)\n",
    "\n",
    "    x = t\n",
    "    y = D/1000\n",
    "    x2.append(x)\n",
    "    y2.append(y)\n",
    "    x = t\n",
    "    y = len(t)*[health_care_capacity/1000]\n",
    "    x3.append(x)\n",
    "    y3.append(y)\n",
    "\n",
    "    xlist = [x1, x2, x3]\n",
    "    ylist = [y1, y2, y3]\n",
    "\n",
    "    for lnum,line in enumerate(lines):\n",
    "        line.set_data(xlist[lnum], ylist[lnum])\n",
    "\n",
    "    return lines\n",
    "\n",
    "anim = animation.FuncAnimation(fig, animate, init_func=init,frames=80, interval=30, blit=False)\n",
    "\n",
    "HTML(anim.to_html5_video())\n"
   ]
  },
  {
   "cell_type": "code",
   "execution_count": 10,
   "metadata": {
    "collapsed": false
   },
   "outputs": [
    {
     "data": {
      "text/plain": [
       "[<matplotlib.lines.Line2D at 0x7ff68238af10>]"
      ]
     },
     "execution_count": 10,
     "metadata": {
     },
     "output_type": "execute_result"
    },
    {
     "data": {
      "image/png": "[encoded data removed]",
      "text/plain": [
       "<Figure size 432x288 with 1 Axes>"
      ]
     },
     "execution_count": 10,
     "metadata": {
      "image/png": {
       "height": 252,
       "width": 369
      },
      "needs_background": "light"
     },
     "output_type": "execute_result"
    }
   ],
   "source": [
    "#Plot the death rate as a runfciton of infection rate, to show nonlinearity\n",
    "fig, ax = plt.subplots()\n",
    "plt.ylabel('Dead')\n",
    "plt.xlabel('Infection rate')\n",
    "plt.ylim(0,max(deads))\n",
    "ax.set_yticklabels([])\n",
    "ax.set_xticklabels([])\n",
    "ax.plot(betas,deads,color='black')"
   ]
  },
  {
   "cell_type": "code",
   "execution_count": 0,
   "metadata": {
    "collapsed": false
   },
   "outputs": [
   ],
   "source": [
   ]
  },
  {
   "cell_type": "code",
   "execution_count": 0,
   "metadata": {
    "collapsed": false
   },
   "outputs": [
   ],
   "source": [
   ]
  }
 ],
 "metadata": {
  "kernelspec": {
   "display_name": "Python 3 (Anaconda 2019)",
   "env": {
    "AR": "/ext/anaconda-2019.03/bin/x86_64-conda_cos6-linux-gnu-ar",
    "AS": "/ext/anaconda-2019.03/bin/x86_64-conda_cos6-linux-gnu-as",
    "CC": "/ext/anaconda-2019.03/bin/x86_64-conda_cos6-linux-gnu-cc",
    "CONDA_EXE": "/ext/anaconda-2019.03/bin/conda",
    "CONDA_PREFIX": "/ext/anaconda-2019.03",
    "CONDA_PYTHON_EXE": "/ext/anaconda-2019.03/bin/python",
    "CPP": "/ext/anaconda-2019.03/bin/x86_64-conda_cos6-linux-gnu-cpp",
    "CXX": "/ext/anaconda-2019.03/bin/x86_64-conda_cos6-linux-gnu-c++",
    "CXXFILT": "/ext/anaconda-2019.03/bin/x86_64-conda_cos6-linux-gnu-c++filt",
    "ELFEDIT": "/ext/anaconda-2019.03/bin/x86_64-conda_cos6-linux-gnu-elfedit",
    "F77": "/ext/anaconda-2019.03/bin/x86_64-conda_cos6-linux-gnu-gfortran",
    "F90": "/ext/anaconda-2019.03/bin/x86_64-conda_cos6-linux-gnu-gfortran",
    "F95": "/ext/anaconda-2019.03/bin/x86_64-conda_cos6-linux-gnu-f95",
    "FC": "/ext/anaconda-2019.03/bin/x86_64-conda_cos6-linux-gnu-gfortran",
    "GCC": "/ext/anaconda-2019.03/bin/x86_64-conda_cos6-linux-gnu-gcc",
    "GCC_AR": "/ext/anaconda-2019.03/bin/x86_64-conda_cos6-linux-gnu-gcc-ar",
    "GCC_NM": "/ext/anaconda-2019.03/bin/x86_64-conda_cos6-linux-gnu-gcc-nm",
    "GCC_RANLIB": "/ext/anaconda-2019.03/bin/x86_64-conda_cos6-linux-gnu-gcc-ranlib",
    "GDAL_DATA": "/ext/anaconda-2019.03/share/gdal",
    "GFORTRAN": "/ext/anaconda-2019.03/bin/x86_64-conda_cos6-linux-gnu-gfortran",
    "GPROF": "/ext/anaconda-2019.03/bin/x86_64-conda_cos6-linux-gnu-gprof",
    "GXX": "/ext/anaconda-2019.03/bin/x86_64-conda_cos6-linux-gnu-g++",
    "JAVA_HOME": "/ext/anaconda-2019.03",
    "JAVA_LD_LIBRARY_PATH": "/ext/anaconda-2019.03/lib/server",
    "LD": "/ext/anaconda-2019.03/bin/x86_64-conda_cos6-linux-gnu-ld",
    "LD_GOLD": "/ext/anaconda-2019.03/bin/x86_64-conda_cos6-linux-gnu-ld.gold",
    "LD_LIBRARY_PATH": "/ext/anaconda-2019.03/lib",
    "NM": "/ext/anaconda-2019.03/bin/x86_64-conda_cos6-linux-gnu-nm",
    "OBJCOPY": "/ext/anaconda-2019.03/bin/x86_64-conda_cos6-linux-gnu-objcopy",
    "OBJDUMP": "/ext/anaconda-2019.03/bin/x86_64-conda_cos6-linux-gnu-objdump",
    "OCAMLFIND_CONF": "/ext/anaconda-2019.03/etc/findlib.conf",
    "OCAMLLIB": "/ext/anaconda-2019.03/lib/ocaml",
    "OCAML_PREFIX": "/ext/anaconda-2019.03",
    "PATH": "/ext/anaconda-2019.03/bin:/ext/anaconda-2019.03/condabin:/cocalc/bin:/cocalc/src/smc-project/bin:/home/user/bin:/home/user/.local/bin:/ext/bin:/usr/lib/xpra:/opt/ghc/bin:/usr/local/bin:/usr/bin:/bin:/ext/data/homer/bin:/ext/data/weblogo:/ext/intellij/idea/bin:/ext/pycharm/pycharm/bin:/usr/lib/postgresql/10/bin",
    "PROJ_LIB": "/ext/anaconda-2019.03/share/proj",
    "PYTHONHOME": "/ext/anaconda-2019.03/lib/python3.7",
    "PYTHONPATH": "/ext/anaconda-2019.03/lib/python3.7:/ext/anaconda-2019.03/lib/python3.7/site-packages",
    "RANLIB": "/ext/anaconda-2019.03/bin/x86_64-conda_cos6-linux-gnu-ranlib",
    "READELF": "/ext/anaconda-2019.03/bin/x86_64-conda_cos6-linux-gnu-readelf",
    "RSTUDIO_WHICH_R": "/ext/anaconda-2019.03/bin/R",
    "SIZE": "/ext/anaconda-2019.03/bin/x86_64-conda_cos6-linux-gnu-size",
    "STRINGS": "/ext/anaconda-2019.03/bin/x86_64-conda_cos6-linux-gnu-strings",
    "STRIP": "/ext/anaconda-2019.03/bin/x86_64-conda_cos6-linux-gnu-strip"
   },
   "language": "python",
   "metadata": {
    "cocalc": {
     "description": "Python/R distribution for data science",
     "priority": 5,
     "url": "https://www.anaconda.com/distribution/"
    }
   },
   "name": "anaconda2019"
  },
  "language_info": {
   "codemirror_mode": {
    "name": "ipython",
    "version": 3
   },
   "file_extension": ".py",
   "mimetype": "text/x-python",
   "name": "python",
   "nbconvert_exporter": "python",
   "pygments_lexer": "ipython3",
   "version": "3.7.6"
  }
 },
 "nbformat": 4,
 "nbformat_minor": 0
}